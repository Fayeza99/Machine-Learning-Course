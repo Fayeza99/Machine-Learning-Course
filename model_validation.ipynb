{
 "cells": [
  {
   "cell_type": "markdown",
   "id": "304038f0",
   "metadata": {
    "papermill": {
     "duration": 0.006751,
     "end_time": "2024-09-22T13:56:08.203527",
     "exception": false,
     "start_time": "2024-09-22T13:56:08.196776",
     "status": "completed"
    },
    "tags": []
   },
   "source": [
    "**This notebook is an exercise in the [Introduction to Machine Learning](https://www.kaggle.com/learn/intro-to-machine-learning) course.  You can reference the tutorial at [this link](https://www.kaggle.com/dansbecker/model-validation).**\n",
    "\n",
    "---\n"
   ]
  },
  {
   "cell_type": "markdown",
   "id": "033c13dc",
   "metadata": {
    "papermill": {
     "duration": 0.005665,
     "end_time": "2024-09-22T13:56:08.215358",
     "exception": false,
     "start_time": "2024-09-22T13:56:08.209693",
     "status": "completed"
    },
    "tags": []
   },
   "source": [
    "## Recap\n",
    "You've built a model. In this exercise you will test how good your model is.\n",
    "\n",
    "Run the cell below to set up your coding environment where the previous exercise left off."
   ]
  },
  {
   "cell_type": "code",
   "execution_count": 1,
   "id": "da9b4b53",
   "metadata": {
    "execution": {
     "iopub.execute_input": "2024-09-22T13:56:08.230784Z",
     "iopub.status.busy": "2024-09-22T13:56:08.230279Z",
     "iopub.status.idle": "2024-09-22T13:56:10.705919Z",
     "shell.execute_reply": "2024-09-22T13:56:10.704652Z"
    },
    "papermill": {
     "duration": 2.486577,
     "end_time": "2024-09-22T13:56:10.708714",
     "exception": false,
     "start_time": "2024-09-22T13:56:08.222137",
     "status": "completed"
    },
    "tags": []
   },
   "outputs": [
    {
     "name": "stdout",
     "output_type": "stream",
     "text": [
      "First in-sample predictions: [208500. 181500. 223500. 140000. 250000.]\n",
      "Actual target values for those homes: [208500, 181500, 223500, 140000, 250000]\n",
      "Setup Complete\n"
     ]
    }
   ],
   "source": [
    "# Code you have previously used to load data\n",
    "import pandas as pd\n",
    "from sklearn.tree import DecisionTreeRegressor\n",
    "\n",
    "# Path of the file to read\n",
    "iowa_file_path = '../input/home-data-for-ml-course/train.csv'\n",
    "\n",
    "home_data = pd.read_csv(iowa_file_path)\n",
    "y = home_data.SalePrice\n",
    "feature_columns = ['LotArea', 'YearBuilt', '1stFlrSF', '2ndFlrSF', 'FullBath', 'BedroomAbvGr', 'TotRmsAbvGrd']\n",
    "X = home_data[feature_columns]\n",
    "\n",
    "# Specify Model\n",
    "iowa_model = DecisionTreeRegressor()\n",
    "# Fit Model\n",
    "iowa_model.fit(X, y)\n",
    "\n",
    "print(\"First in-sample predictions:\", iowa_model.predict(X.head()))\n",
    "print(\"Actual target values for those homes:\", y.head().tolist())\n",
    "\n",
    "# Set up code checking\n",
    "from learntools.core import binder\n",
    "binder.bind(globals())\n",
    "from learntools.machine_learning.ex4 import *\n",
    "print(\"Setup Complete\")"
   ]
  },
  {
   "cell_type": "markdown",
   "id": "9ed21872",
   "metadata": {
    "papermill": {
     "duration": 0.005837,
     "end_time": "2024-09-22T13:56:10.720898",
     "exception": false,
     "start_time": "2024-09-22T13:56:10.715061",
     "status": "completed"
    },
    "tags": []
   },
   "source": [
    "# Exercises\n",
    "\n",
    "## Step 1: Split Your Data\n",
    "Use the `train_test_split` function to split up your data.\n",
    "\n",
    "Give it the argument `random_state=1` so the `check` functions know what to expect when verifying your code.\n",
    "\n",
    "Recall, your features are loaded in the DataFrame **X** and your target is loaded in **y**.\n"
   ]
  },
  {
   "cell_type": "code",
   "execution_count": 2,
   "id": "6b7614a6",
   "metadata": {
    "execution": {
     "iopub.execute_input": "2024-09-22T13:56:10.735767Z",
     "iopub.status.busy": "2024-09-22T13:56:10.734619Z",
     "iopub.status.idle": "2024-09-22T13:56:10.754537Z",
     "shell.execute_reply": "2024-09-22T13:56:10.753259Z"
    },
    "papermill": {
     "duration": 0.030322,
     "end_time": "2024-09-22T13:56:10.757342",
     "exception": false,
     "start_time": "2024-09-22T13:56:10.727020",
     "status": "completed"
    },
    "tags": []
   },
   "outputs": [
    {
     "data": {
      "application/javascript": [
       "parent.postMessage({\"jupyterEvent\": \"custom.exercise_interaction\", \"data\": {\"outcomeType\": 1, \"valueTowardsCompletion\": 0.25, \"interactionType\": 1, \"questionType\": 2, \"questionId\": \"1_SplitData\", \"learnToolsVersion\": \"0.3.4\", \"failureMessage\": \"\", \"exceptionClass\": \"\", \"trace\": \"\"}}, \"*\")"
      ],
      "text/plain": [
       "<IPython.core.display.Javascript object>"
      ]
     },
     "metadata": {},
     "output_type": "display_data"
    },
    {
     "data": {
      "text/markdown": [
       "<span style=\"color:#33cc33\">Correct</span>"
      ],
      "text/plain": [
       "Correct"
      ]
     },
     "metadata": {},
     "output_type": "display_data"
    }
   ],
   "source": [
    "# Import the train_test_split function and uncomment\n",
    "from sklearn.model_selection import train_test_split\n",
    "\n",
    "# fill in and uncomment\n",
    "train_X, val_X, train_y, val_y = train_test_split(X, y, random_state=1)\n",
    "\n",
    "# Check your answer\n",
    "step_1.check()"
   ]
  },
  {
   "cell_type": "code",
   "execution_count": 3,
   "id": "1626251b",
   "metadata": {
    "execution": {
     "iopub.execute_input": "2024-09-22T13:56:10.772564Z",
     "iopub.status.busy": "2024-09-22T13:56:10.772107Z",
     "iopub.status.idle": "2024-09-22T13:56:10.777292Z",
     "shell.execute_reply": "2024-09-22T13:56:10.776037Z"
    },
    "papermill": {
     "duration": 0.015688,
     "end_time": "2024-09-22T13:56:10.779736",
     "exception": false,
     "start_time": "2024-09-22T13:56:10.764048",
     "status": "completed"
    },
    "tags": []
   },
   "outputs": [],
   "source": [
    "# The lines below will show you a hint or the solution.\n",
    "# step_1.hint() \n",
    "# step_1.solution()\n"
   ]
  },
  {
   "cell_type": "markdown",
   "id": "dccbcf2b",
   "metadata": {
    "papermill": {
     "duration": 0.006219,
     "end_time": "2024-09-22T13:56:10.792543",
     "exception": false,
     "start_time": "2024-09-22T13:56:10.786324",
     "status": "completed"
    },
    "tags": []
   },
   "source": [
    "## Step 2: Specify and Fit the Model\n",
    "\n",
    "Create a `DecisionTreeRegressor` model and fit it to the relevant data.\n",
    "Set `random_state` to 1 again when creating the model."
   ]
  },
  {
   "cell_type": "code",
   "execution_count": 4,
   "id": "a74b07ca",
   "metadata": {
    "execution": {
     "iopub.execute_input": "2024-09-22T13:56:10.807410Z",
     "iopub.status.busy": "2024-09-22T13:56:10.806968Z",
     "iopub.status.idle": "2024-09-22T13:56:10.836819Z",
     "shell.execute_reply": "2024-09-22T13:56:10.835652Z"
    },
    "papermill": {
     "duration": 0.040118,
     "end_time": "2024-09-22T13:56:10.839183",
     "exception": false,
     "start_time": "2024-09-22T13:56:10.799065",
     "status": "completed"
    },
    "tags": []
   },
   "outputs": [
    {
     "name": "stdout",
     "output_type": "stream",
     "text": [
      "[186500. 184000. 130000.  92000. 164500. 220000. 335000. 144152. 215000.\n",
      " 262000.]\n",
      "[186500. 184000. 130000.  92000. 164500. 220000. 335000. 144152. 215000.\n",
      " 262000.]\n"
     ]
    },
    {
     "data": {
      "application/javascript": [
       "parent.postMessage({\"jupyterEvent\": \"custom.exercise_interaction\", \"data\": {\"outcomeType\": 1, \"valueTowardsCompletion\": 0.25, \"interactionType\": 1, \"questionType\": 2, \"questionId\": \"2_FitModelWithTrain\", \"learnToolsVersion\": \"0.3.4\", \"failureMessage\": \"\", \"exceptionClass\": \"\", \"trace\": \"\"}}, \"*\")"
      ],
      "text/plain": [
       "<IPython.core.display.Javascript object>"
      ]
     },
     "metadata": {},
     "output_type": "display_data"
    },
    {
     "data": {
      "text/markdown": [
       "<span style=\"color:#33cc33\">Correct</span>"
      ],
      "text/plain": [
       "Correct"
      ]
     },
     "metadata": {},
     "output_type": "display_data"
    }
   ],
   "source": [
    "# You imported DecisionTreeRegressor in your last exercise\n",
    "# and that code has been copied to the setup code above. So, no need to\n",
    "# import it again\n",
    "\n",
    "# Specify the model\n",
    "iowa_model = DecisionTreeRegressor(random_state=1)\n",
    "\n",
    "# Fit iowa_model with the training data.\n",
    "iowa_model.fit(train_X, train_y)\n",
    "\n",
    "# Check your answer\n",
    "step_2.check()"
   ]
  },
  {
   "cell_type": "code",
   "execution_count": 5,
   "id": "2c9492ab",
   "metadata": {
    "execution": {
     "iopub.execute_input": "2024-09-22T13:56:10.854877Z",
     "iopub.status.busy": "2024-09-22T13:56:10.854421Z",
     "iopub.status.idle": "2024-09-22T13:56:10.859796Z",
     "shell.execute_reply": "2024-09-22T13:56:10.858355Z"
    },
    "papermill": {
     "duration": 0.016641,
     "end_time": "2024-09-22T13:56:10.862756",
     "exception": false,
     "start_time": "2024-09-22T13:56:10.846115",
     "status": "completed"
    },
    "tags": []
   },
   "outputs": [],
   "source": [
    "# step_2.hint()\n",
    "# step_2.solution()"
   ]
  },
  {
   "cell_type": "markdown",
   "id": "87d7b86b",
   "metadata": {
    "papermill": {
     "duration": 0.007397,
     "end_time": "2024-09-22T13:56:10.877497",
     "exception": false,
     "start_time": "2024-09-22T13:56:10.870100",
     "status": "completed"
    },
    "tags": []
   },
   "source": [
    "## Step 3: Make Predictions with Validation data\n"
   ]
  },
  {
   "cell_type": "code",
   "execution_count": 6,
   "id": "58330076",
   "metadata": {
    "execution": {
     "iopub.execute_input": "2024-09-22T13:56:10.894137Z",
     "iopub.status.busy": "2024-09-22T13:56:10.893694Z",
     "iopub.status.idle": "2024-09-22T13:56:10.907455Z",
     "shell.execute_reply": "2024-09-22T13:56:10.906189Z"
    },
    "papermill": {
     "duration": 0.024974,
     "end_time": "2024-09-22T13:56:10.910062",
     "exception": false,
     "start_time": "2024-09-22T13:56:10.885088",
     "status": "completed"
    },
    "tags": []
   },
   "outputs": [
    {
     "data": {
      "application/javascript": [
       "parent.postMessage({\"jupyterEvent\": \"custom.exercise_interaction\", \"data\": {\"outcomeType\": 1, \"valueTowardsCompletion\": 0.25, \"interactionType\": 1, \"questionType\": 2, \"questionId\": \"3_ValPreds\", \"learnToolsVersion\": \"0.3.4\", \"failureMessage\": \"\", \"exceptionClass\": \"\", \"trace\": \"\"}}, \"*\")"
      ],
      "text/plain": [
       "<IPython.core.display.Javascript object>"
      ]
     },
     "metadata": {},
     "output_type": "display_data"
    },
    {
     "data": {
      "text/markdown": [
       "<span style=\"color:#33cc33\">Correct</span>"
      ],
      "text/plain": [
       "Correct"
      ]
     },
     "metadata": {},
     "output_type": "display_data"
    }
   ],
   "source": [
    "# Predict with all validation observations\n",
    "val_predictions = iowa_model.predict(val_X)\n",
    "\n",
    "# Check your answer\n",
    "step_3.check()"
   ]
  },
  {
   "cell_type": "code",
   "execution_count": 7,
   "id": "7866c594",
   "metadata": {
    "execution": {
     "iopub.execute_input": "2024-09-22T13:56:10.927151Z",
     "iopub.status.busy": "2024-09-22T13:56:10.926693Z",
     "iopub.status.idle": "2024-09-22T13:56:10.931608Z",
     "shell.execute_reply": "2024-09-22T13:56:10.930461Z"
    },
    "papermill": {
     "duration": 0.016472,
     "end_time": "2024-09-22T13:56:10.934189",
     "exception": false,
     "start_time": "2024-09-22T13:56:10.917717",
     "status": "completed"
    },
    "tags": []
   },
   "outputs": [],
   "source": [
    "# step_3.hint()\n",
    "# step_3.solution()"
   ]
  },
  {
   "cell_type": "markdown",
   "id": "a4962780",
   "metadata": {
    "papermill": {
     "duration": 0.007473,
     "end_time": "2024-09-22T13:56:10.949162",
     "exception": false,
     "start_time": "2024-09-22T13:56:10.941689",
     "status": "completed"
    },
    "tags": []
   },
   "source": [
    "Inspect your predictions and actual values from validation data."
   ]
  },
  {
   "cell_type": "code",
   "execution_count": 8,
   "id": "6576906b",
   "metadata": {
    "execution": {
     "iopub.execute_input": "2024-09-22T13:56:10.966146Z",
     "iopub.status.busy": "2024-09-22T13:56:10.965716Z",
     "iopub.status.idle": "2024-09-22T13:56:10.977845Z",
     "shell.execute_reply": "2024-09-22T13:56:10.976374Z"
    },
    "papermill": {
     "duration": 0.023687,
     "end_time": "2024-09-22T13:56:10.980519",
     "exception": false,
     "start_time": "2024-09-22T13:56:10.956832",
     "status": "completed"
    },
    "tags": []
   },
   "outputs": [
    {
     "name": "stdout",
     "output_type": "stream",
     "text": [
      "[186500. 184000. 130000.  92000. 164500. 220000. 335000. 144152. 215000.\n",
      " 262000. 180000. 121000. 175900. 210000. 248900. 131000. 100000. 149350.\n",
      " 235000. 156000. 149900. 265979. 193500. 377500. 100000. 162900. 145000.\n",
      " 180000. 582933. 146000. 140000.  91500. 112500. 113000. 145000. 312500.\n",
      " 110000. 132000. 305000. 128000. 162900. 115000. 110000. 124000. 215200.\n",
      " 180000.  79000. 192000. 282922. 235000. 132000. 325000.  80000. 237000.\n",
      " 208300. 100000. 120500. 162000. 153000. 187000. 185750. 335000. 129000.\n",
      " 124900. 185750. 133700. 127000. 230000. 146800. 157900. 136000. 153575.\n",
      " 335000. 177500. 143000. 202500. 168500. 105000. 305900. 192000. 190000.\n",
      " 140200. 134900. 128950. 213000. 108959. 149500. 190000. 175900. 160000.\n",
      " 250580. 157000. 120500. 147500. 118000. 117000. 110000. 130000. 148500.\n",
      " 148000. 190000. 130500. 127000. 120500. 135000. 168000. 176432. 128000.\n",
      " 147000. 260000. 132000. 129500. 171000. 181134. 227875. 189000. 282922.\n",
      "  94750. 185000. 194000. 159000. 279500. 290000. 135000. 299800. 165000.\n",
      " 394432. 135750. 155000. 212000. 310000. 134800.  84000. 122900.  80000.\n",
      " 191000. 755000. 147000. 248000. 106500. 145000. 359100. 145000. 192500.\n",
      " 149000. 252000. 109000. 215000. 220000. 138500. 185000. 185000. 120500.\n",
      " 181000. 173000. 335000.  67000. 149350.  67000. 156000. 119000. 110500.\n",
      " 184000. 147000. 156000. 171000. 177000. 159000. 125000. 105000. 284000.\n",
      " 167500. 200000. 312500. 213000. 135960. 205000. 237000. 107000. 163000.\n",
      " 132500. 155835. 165500. 138500. 257000. 160000. 394617. 281213. 161000.\n",
      " 127500.  88000. 139000.  89500. 132500. 134800. 335000. 248900. 155000.\n",
      " 147000.  86000. 185000. 200000. 180500. 215200. 319900. 105000. 194000.\n",
      " 340000. 256000. 280000. 186500. 105500. 155000. 133500. 255500. 253000.\n",
      " 130000.  92900. 256000. 100000. 755000. 138500. 168500. 112000. 127000.\n",
      " 109008. 197000. 245500. 171900. 162000. 128000. 173000. 132000. 118000.\n",
      " 235128. 118964. 260000. 116000. 185000. 315750. 236500. 140000. 151500.\n",
      " 184000.  84000. 130000. 154000. 205000. 110000. 151500. 123000. 129500.\n",
      " 173900. 181500. 165500. 106500. 184900.  84500. 377500. 118500. 180000.\n",
      " 190000. 208500. 181000.  98000. 157000. 151500.  84000. 139000. 100000.\n",
      " 161750. 165600. 116000. 118500. 187000. 147000. 112000. 132000. 230000.\n",
      " 128000. 147000. 125000. 145000. 151000. 284000. 221000. 140200. 129000.\n",
      " 290000. 105000.  96500. 310000. 140000. 132000. 203000. 221000. 215200.\n",
      " 214000. 139000.  91500. 148000. 155000. 115000. 180000. 165500. 223000.\n",
      " 139000. 179900. 150000. 185000. 163000. 176000. 127000. 227000. 146000.\n",
      "  99900. 275000. 180500. 180000. 157000. 186500. 179900. 137500. 219500.\n",
      " 155000. 345000. 197000. 205000. 159000. 159434. 156000. 196000. 252678.\n",
      " 255500. 213000. 150900. 143750. 139000. 260000. 189000. 213250. 207500.\n",
      "  80000. 221000. 109500. 155000. 165000. 149350. 204900. 105900. 155000.\n",
      " 176000. 395000. 149700. 147000. 143900. 226700. 176000. 116000. 325300.\n",
      " 133750. 188500. 148500. 284000. 201800.]\n",
      "258     231500\n",
      "267     179500\n",
      "288     122000\n",
      "649      84500\n",
      "1233    142000\n",
      "Name: SalePrice, dtype: int64\n"
     ]
    }
   ],
   "source": [
    "# print the top few validation predictions\n",
    "print(val_predictions)\n",
    "# print the top few actual prices from validation data\n",
    "print(val_y.head())"
   ]
  },
  {
   "cell_type": "markdown",
   "id": "5fe405c4",
   "metadata": {
    "papermill": {
     "duration": 0.007545,
     "end_time": "2024-09-22T13:56:10.995848",
     "exception": false,
     "start_time": "2024-09-22T13:56:10.988303",
     "status": "completed"
    },
    "tags": []
   },
   "source": [
    "What do you notice that is different from what you saw with in-sample predictions (which are printed after the top code cell in this page).\n",
    "\n",
    "Do you remember why validation predictions differ from in-sample (or training) predictions? This is an important idea from the last lesson.\n",
    "\n",
    "## Step 4: Calculate the Mean Absolute Error in Validation Data\n"
   ]
  },
  {
   "cell_type": "code",
   "execution_count": 9,
   "id": "9aa5699f",
   "metadata": {
    "execution": {
     "iopub.execute_input": "2024-09-22T13:56:11.013346Z",
     "iopub.status.busy": "2024-09-22T13:56:11.012900Z",
     "iopub.status.idle": "2024-09-22T13:56:11.024753Z",
     "shell.execute_reply": "2024-09-22T13:56:11.023423Z"
    },
    "papermill": {
     "duration": 0.024022,
     "end_time": "2024-09-22T13:56:11.027594",
     "exception": false,
     "start_time": "2024-09-22T13:56:11.003572",
     "status": "completed"
    },
    "tags": []
   },
   "outputs": [
    {
     "data": {
      "application/javascript": [
       "parent.postMessage({\"jupyterEvent\": \"custom.exercise_interaction\", \"data\": {\"outcomeType\": 1, \"valueTowardsCompletion\": 0.25, \"interactionType\": 1, \"questionType\": 1, \"questionId\": \"4_MAE\", \"learnToolsVersion\": \"0.3.4\", \"failureMessage\": \"\", \"exceptionClass\": \"\", \"trace\": \"\"}}, \"*\")"
      ],
      "text/plain": [
       "<IPython.core.display.Javascript object>"
      ]
     },
     "metadata": {},
     "output_type": "display_data"
    },
    {
     "data": {
      "text/markdown": [
       "<span style=\"color:#33cc33\">Correct</span>"
      ],
      "text/plain": [
       "Correct"
      ]
     },
     "metadata": {},
     "output_type": "display_data"
    }
   ],
   "source": [
    "from sklearn.metrics import mean_absolute_error\n",
    "val_mae = mean_absolute_error(val_y, val_predictions)\n",
    "\n",
    "# uncomment following line to see the validation_mae\n",
    "#print(val_mae)\n",
    "\n",
    "# Check your answer\n",
    "step_4.check()"
   ]
  },
  {
   "cell_type": "code",
   "execution_count": 10,
   "id": "6c506522",
   "metadata": {
    "execution": {
     "iopub.execute_input": "2024-09-22T13:56:11.046452Z",
     "iopub.status.busy": "2024-09-22T13:56:11.045992Z",
     "iopub.status.idle": "2024-09-22T13:56:11.051391Z",
     "shell.execute_reply": "2024-09-22T13:56:11.050184Z"
    },
    "papermill": {
     "duration": 0.018193,
     "end_time": "2024-09-22T13:56:11.054164",
     "exception": false,
     "start_time": "2024-09-22T13:56:11.035971",
     "status": "completed"
    },
    "tags": []
   },
   "outputs": [],
   "source": [
    "# step_4.hint()\n",
    "# step_4.solution()"
   ]
  },
  {
   "cell_type": "markdown",
   "id": "5a5bf7b8",
   "metadata": {
    "papermill": {
     "duration": 0.007608,
     "end_time": "2024-09-22T13:56:11.069794",
     "exception": false,
     "start_time": "2024-09-22T13:56:11.062186",
     "status": "completed"
    },
    "tags": []
   },
   "source": [
    "Is that MAE good?  There isn't a general rule for what values are good that applies across applications. But you'll see how to use (and improve) this number in the next step.\n",
    "\n",
    "# Keep Going\n",
    "\n",
    "You are ready for **[Underfitting and Overfitting](https://www.kaggle.com/dansbecker/underfitting-and-overfitting).**\n"
   ]
  },
  {
   "cell_type": "markdown",
   "id": "b77a955a",
   "metadata": {
    "papermill": {
     "duration": 0.007663,
     "end_time": "2024-09-22T13:56:11.085397",
     "exception": false,
     "start_time": "2024-09-22T13:56:11.077734",
     "status": "completed"
    },
    "tags": []
   },
   "source": [
    "---\n",
    "\n",
    "\n",
    "\n",
    "\n",
    "*Have questions or comments? Visit the [course discussion forum](https://www.kaggle.com/learn/intro-to-machine-learning/discussion) to chat with other learners.*"
   ]
  }
 ],
 "metadata": {
  "kaggle": {
   "accelerator": "none",
   "dataSources": [
    {
     "databundleVersionId": 111096,
     "sourceId": 10211,
     "sourceType": "competition"
    },
    {
     "datasetId": 11167,
     "sourceId": 15520,
     "sourceType": "datasetVersion"
    },
    {
     "datasetId": 2709,
     "sourceId": 38454,
     "sourceType": "datasetVersion"
    }
   ],
   "isGpuEnabled": false,
   "isInternetEnabled": false,
   "language": "python",
   "sourceType": "notebook"
  },
  "kernelspec": {
   "display_name": "Python 3",
   "language": "python",
   "name": "python3"
  },
  "language_info": {
   "codemirror_mode": {
    "name": "ipython",
    "version": 3
   },
   "file_extension": ".py",
   "mimetype": "text/x-python",
   "name": "python",
   "nbconvert_exporter": "python",
   "pygments_lexer": "ipython3",
   "version": "3.10.14"
  },
  "papermill": {
   "default_parameters": {},
   "duration": 6.744992,
   "end_time": "2024-09-22T13:56:11.715923",
   "environment_variables": {},
   "exception": null,
   "input_path": "__notebook__.ipynb",
   "output_path": "__notebook__.ipynb",
   "parameters": {},
   "start_time": "2024-09-22T13:56:04.970931",
   "version": "2.6.0"
  }
 },
 "nbformat": 4,
 "nbformat_minor": 5
}
